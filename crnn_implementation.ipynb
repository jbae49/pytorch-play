{
  "nbformat": 4,
  "nbformat_minor": 0,
  "metadata": {
    "colab": {
      "provenance": []
    },
    "kernelspec": {
      "name": "python3",
      "display_name": "Python 3"
    },
    "language_info": {
      "name": "python"
    }
  },
  "cells": [
    {
      "cell_type": "code",
      "execution_count": null,
      "metadata": {
        "id": "XsLJbepk8vAf"
      },
      "outputs": [],
      "source": [
        "from zipfile import ZipFile\n",
        "\n",
        "# as colab takes forever to upload the large folder, so better to upload the zip file then extract\n",
        "with ZipFile(\"sample_cropped.zip\", 'r') as zObject:\n",
        "\n",
        "\tzObject.extractall(\n",
        "\t\tpath=\"train\")"
      ]
    },
    {
      "cell_type": "code",
      "source": [
        "list('hello')"
      ],
      "metadata": {
        "id": "-86HuB4Db-cR",
        "colab": {
          "base_uri": "https://localhost:8080/"
        },
        "outputId": "710d4a3e-27f9-4494-db93-e0660ccac8b1"
      },
      "execution_count": 146,
      "outputs": [
        {
          "output_type": "execute_result",
          "data": {
            "text/plain": [
              "['h', 'e', 'l', 'l', 'o']"
            ]
          },
          "metadata": {},
          "execution_count": 146
        }
      ]
    },
    {
      "cell_type": "code",
      "source": [
        "chars = \"0123456789abcdefghijklmnopqrstuvwxyz`~!@#$%^&*()_-+={}[]|\\/'<>,.?\"\n",
        "len(chars)"
      ],
      "metadata": {
        "colab": {
          "base_uri": "https://localhost:8080/"
        },
        "id": "HnVTc4KoeSPn",
        "outputId": "73681420-0275-48b0-ab62-eb97aeb4d537"
      },
      "execution_count": 147,
      "outputs": [
        {
          "output_type": "execute_result",
          "data": {
            "text/plain": [
              "65"
            ]
          },
          "metadata": {},
          "execution_count": 147
        }
      ]
    },
    {
      "cell_type": "code",
      "source": [
        "import os\n",
        "import pandas as pd\n",
        "import numpy as np\n",
        "import torch\n",
        "from torch.utils.data import Dataset\n",
        "import torchvision.transforms as T\n",
        "from torchvision.io import read_image\n",
        "import matplotlib.pyplot as plt\n",
        "from PIL import Image\n",
        "\n",
        "chars = \"0123456789abcdefghijklmnopqrstuvwxyz`~!@#$%^&*()_-+={}[]|\\/'<>,.?:;\\\"\"\n",
        "char2label = {char:i+1 for i, char in enumerate(chars)} # 0 will represent blank for the CTCloss later\n",
        "label2char = {label:char for char, label in char2label.items()}\n",
        "\n",
        "class CustomImageDataset(Dataset):\n",
        "\n",
        "  def __init__(self, img_dir, transform=None, target_transform=None):\n",
        "    #.DS_Store error later with UnidentifiedImageError\n",
        "    self.img_labels = [f for f in os.listdir(img_dir) if f.lower().endswith(('.png','.jpg','jpeg')) and not f.startswith('.')]\n",
        "    self.img_dir = img_dir\n",
        "    # \"During training, all images are scaled to 100 x 32 in order to accelerate the training process.\"\n",
        "    self.transform = T.Compose([\n",
        "        T.Resize((32,100)),\n",
        "        # Input: W x 32 gray-scale image\n",
        "        T.Grayscale(),\n",
        "        T.ToTensor()\n",
        "    ])\n",
        "    self.target_transform = target_transform\n",
        "\n",
        "  def __len__(self):\n",
        "    return len(self.img_labels)\n",
        "\n",
        "  def __getitem__(self, idx):\n",
        "    img_path = os.path.join(self.img_dir, self.img_labels[idx])\n",
        "\n",
        "    image = Image.open(img_path)\n",
        "    labels = [f.split('.')[0].replace('{slash}','/').lower() for f in self.img_labels]\n",
        "    label = labels[idx]\n",
        "    label_list = [char2label[l] for l in label]\n",
        "\n",
        "    if self.transform:\n",
        "      image = self.transform(image)\n",
        "    if self.target_transform:\n",
        "      label = self.target_transform(label)\n",
        "\n",
        "    # need to do [ len(label_list) ] not just len(label_list)\n",
        "    # torch.LongTensor(4) will generate 4 random tensors not tensor([4])\n",
        "    return image, torch.LongTensor(label_list), torch.LongTensor([len(label_list)]) # wanted to return label itself, but I guess this is the best practice for the collate_fn"
      ],
      "metadata": {
        "id": "DQV_EmNK9eaY"
      },
      "execution_count": 148,
      "outputs": []
    },
    {
      "cell_type": "code",
      "source": [
        "customdata = CustomImageDataset(\"train/sample_cropped\")"
      ],
      "metadata": {
        "id": "oeiXoEyM88m0"
      },
      "execution_count": 149,
      "outputs": []
    },
    {
      "cell_type": "code",
      "source": [
        "len(customdata)"
      ],
      "metadata": {
        "colab": {
          "base_uri": "https://localhost:8080/"
        },
        "id": "90B0YDhERmdl",
        "outputId": "c052e300-f07d-44bb-9c15-21bb1c1e6eec"
      },
      "execution_count": 150,
      "outputs": [
        {
          "output_type": "execute_result",
          "data": {
            "text/plain": [
              "162"
            ]
          },
          "metadata": {},
          "execution_count": 150
        }
      ]
    },
    {
      "cell_type": "code",
      "source": [
        "type(customdata.__getitem__(1)[0])"
      ],
      "metadata": {
        "colab": {
          "base_uri": "https://localhost:8080/"
        },
        "id": "0CLAygnkRopi",
        "outputId": "8f18e32a-01fb-41c8-b85e-ced6d3cd09a0"
      },
      "execution_count": 151,
      "outputs": [
        {
          "output_type": "execute_result",
          "data": {
            "text/plain": [
              "torch.Tensor"
            ]
          },
          "metadata": {},
          "execution_count": 151
        }
      ]
    },
    {
      "cell_type": "code",
      "source": [
        "customdata.__getitem__(1)[0].size()"
      ],
      "metadata": {
        "colab": {
          "base_uri": "https://localhost:8080/"
        },
        "id": "Yf-0JyaDRq1p",
        "outputId": "01b054f3-2d0d-431f-b7db-eed92772e401"
      },
      "execution_count": 152,
      "outputs": [
        {
          "output_type": "execute_result",
          "data": {
            "text/plain": [
              "torch.Size([1, 32, 100])"
            ]
          },
          "metadata": {},
          "execution_count": 152
        }
      ]
    },
    {
      "cell_type": "code",
      "source": [
        "sample_img = customdata.__getitem__(20)[0]\n",
        "tr = T.ToPILImage()\n",
        "img = tr(sample_img)\n",
        "img # not img.show()"
      ],
      "metadata": {
        "colab": {
          "base_uri": "https://localhost:8080/",
          "height": 49
        },
        "id": "HhTYdBVnSiHU",
        "outputId": "22799809-e742-4897-9ed4-2aab833ab255"
      },
      "execution_count": 153,
      "outputs": [
        {
          "output_type": "execute_result",
          "data": {
            "text/plain": [
              "<PIL.Image.Image image mode=L size=100x32>"
            ],
            "image/png": "[encoded data removed]"
          },
          "metadata": {},
          "execution_count": 153
        }
      ]
    },
    {
      "cell_type": "code",
      "source": [
        "sample_label = customdata.__getitem__(20)[1]; sample_label"
      ],
      "metadata": {
        "colab": {
          "base_uri": "https://localhost:8080/"
        },
        "id": "qgbSM1sGUwr8",
        "outputId": "5c0c4503-5510-4caa-b753-4e69d7db615b"
      },
      "execution_count": 154,
      "outputs": [
        {
          "output_type": "execute_result",
          "data": {
            "text/plain": [
              "tensor([13, 11, 16, 15])"
            ]
          },
          "metadata": {},
          "execution_count": 154
        }
      ]
    },
    {
      "cell_type": "code",
      "source": [
        "len(sample_label)"
      ],
      "metadata": {
        "colab": {
          "base_uri": "https://localhost:8080/"
        },
        "id": "birKeIItjXax",
        "outputId": "071420c9-5dc8-4d0d-fd85-f8638e627fa0"
      },
      "execution_count": 155,
      "outputs": [
        {
          "output_type": "execute_result",
          "data": {
            "text/plain": [
              "4"
            ]
          },
          "metadata": {},
          "execution_count": 155
        }
      ]
    },
    {
      "cell_type": "code",
      "source": [
        "torch.LongTensor([4])"
      ],
      "metadata": {
        "colab": {
          "base_uri": "https://localhost:8080/"
        },
        "id": "9VOmNLijjdeP",
        "outputId": "04eea448-8abe-4a6f-fc49-c39b64cbeab7"
      },
      "execution_count": 156,
      "outputs": [
        {
          "output_type": "execute_result",
          "data": {
            "text/plain": [
              "tensor([4])"
            ]
          },
          "metadata": {},
          "execution_count": 156
        }
      ]
    },
    {
      "cell_type": "code",
      "source": [
        "''.join(label2char[i] for i in sample_label.numpy())"
      ],
      "metadata": {
        "colab": {
          "base_uri": "https://localhost:8080/",
          "height": 35
        },
        "id": "x55SxBOMFGqV",
        "outputId": "cb610ff4-25d0-4fd7-8e2c-4c270b393345"
      },
      "execution_count": 157,
      "outputs": [
        {
          "output_type": "execute_result",
          "data": {
            "text/plain": [
              "'cafe'"
            ],
            "application/vnd.google.colaboratory.intrinsic+json": {
              "type": "string"
            }
          },
          "metadata": {},
          "execution_count": 157
        }
      ]
    },
    {
      "cell_type": "code",
      "source": [
        "customdata.__getitem__(20)[2]"
      ],
      "metadata": {
        "colab": {
          "base_uri": "https://localhost:8080/"
        },
        "id": "pGgqd9QeCyJ-",
        "outputId": "c6a43afb-dace-4cbd-ea7b-620d07ff739e"
      },
      "execution_count": 158,
      "outputs": [
        {
          "output_type": "execute_result",
          "data": {
            "text/plain": [
              "tensor([4])"
            ]
          },
          "metadata": {},
          "execution_count": 158
        }
      ]
    },
    {
      "cell_type": "markdown",
      "source": [
        "https://stackoverflow.com/questions/50544730/how-do-i-split-a-custom-dataset-into-training-and-test-datasets\n"
      ],
      "metadata": {
        "id": "8EEt6zz3XSQg"
      }
    },
    {
      "cell_type": "code",
      "source": [
        "from torch.utils.data.sampler import SubsetRandomSampler\n",
        "\n",
        "batch_size = 8\n",
        "validation_split = .2\n",
        "shuffle_dataset = True\n",
        "random_seed = 42\n",
        "\n",
        "dataset_size = len(customdata)\n",
        "indices = list(range(dataset_size))\n",
        "split = int(np.floor(validation_split * dataset_size))\n",
        "if shuffle_dataset:\n",
        "  np.random.seed(random_seed)\n",
        "  np.random.shuffle(indices)\n",
        "train_indices, val_indices = indices[split:], indices[:split]\n",
        "\n",
        "train_sampler = SubsetRandomSampler(train_indices)\n",
        "valid_sampler = SubsetRandomSampler(val_indices)"
      ],
      "metadata": {
        "id": "uxM1dAV7XAW4"
      },
      "execution_count": 159,
      "outputs": []
    },
    {
      "cell_type": "code",
      "source": [
        "a = [(1,2,3),(3,4,1)]\n",
        "print([a[i][1] for i in range(len(a))])\n",
        "max([a[i][1] for i in range(len(a))])"
      ],
      "metadata": {
        "colab": {
          "base_uri": "https://localhost:8080/"
        },
        "id": "h1_hIB-0EB_P",
        "outputId": "ef42c0e6-de69-48d0-85cf-b7e9ed71c675"
      },
      "execution_count": 160,
      "outputs": [
        {
          "output_type": "stream",
          "name": "stdout",
          "text": [
            "[2, 4]\n"
          ]
        },
        {
          "output_type": "execute_result",
          "data": {
            "text/plain": [
              "4"
            ]
          },
          "metadata": {},
          "execution_count": 160
        }
      ]
    },
    {
      "cell_type": "markdown",
      "source": [
        "in the context of PyTorch's DataLoader, batch is a list of tuples like [(image1, target1, target_length1), (image2, target2, target_length2), ...]"
      ],
      "metadata": {
        "id": "s19uRtol287T"
      }
    },
    {
      "cell_type": "code",
      "source": [
        "from torch.nn.utils.rnn import pad_sequence\n",
        "\n",
        "def collate_fn(data):\n",
        "  \"\"\"\n",
        "    data: (image, label_list, label) from __getitem__\n",
        "  \"\"\"\n",
        "  images, label_lists, lengths = zip(*data)\n",
        "  # print(type(images)) - tuple\n",
        "  # max_len = max([data[i][1] for i in range(len(data))]) - manual padding here can be done with rnn.pad_sequence\n",
        "\n",
        "  labels_padded = pad_sequence([torch.tensor(label) for label in label_lists], batch_first=True, padding_value=0)\n",
        "  # print(labels_padded)\n",
        "  # print(lengths)\n",
        "  return torch.stack(images), labels_padded, torch.tensor(lengths)"
      ],
      "metadata": {
        "id": "p0wTMI87DJjH"
      },
      "execution_count": 161,
      "outputs": []
    },
    {
      "cell_type": "code",
      "source": [
        "from torch.utils.data import DataLoader\n",
        "\n",
        "train_dataloader = DataLoader(customdata, batch_size=batch_size, sampler=train_sampler, collate_fn = collate_fn)\n",
        "test_dataloader = DataLoader(customdata, batch_size=batch_size, sampler=valid_sampler, collate_fn = collate_fn)"
      ],
      "metadata": {
        "id": "9KybSTzoWBdJ"
      },
      "execution_count": 162,
      "outputs": []
    },
    {
      "cell_type": "code",
      "source": [
        "for d, l, _ in train_dataloader:\n",
        "  print(d.size()) # (N, C, H, W)\n",
        "  # print(d)\n",
        "  break"
      ],
      "metadata": {
        "colab": {
          "base_uri": "https://localhost:8080/"
        },
        "id": "5triDi83d_FJ",
        "outputId": "a5338e8f-3024-449a-9118-1e593625cc68"
      },
      "execution_count": 163,
      "outputs": [
        {
          "output_type": "stream",
          "name": "stdout",
          "text": [
            "torch.Size([8, 1, 32, 100])\n"
          ]
        },
        {
          "output_type": "stream",
          "name": "stderr",
          "text": [
            "<ipython-input-161-d9c2bf55200e>:11: UserWarning: To copy construct from a tensor, it is recommended to use sourceTensor.clone().detach() or sourceTensor.clone().detach().requires_grad_(True), rather than torch.tensor(sourceTensor).\n",
            "  labels_padded = pad_sequence([torch.tensor(label) for label in label_lists], batch_first=True, padding_value=0)\n"
          ]
        }
      ]
    },
    {
      "cell_type": "markdown",
      "source": [
        "RuntimeError: each element in list of batch should be of equal size; NEED A COLLATE FUNCTION\n",
        "\n",
        "https://discuss.pytorch.org/t/runtimeerror-each-element-in-list-of-batch-should-be-of-equal-size-image-caption-generator-kaggle/100586"
      ],
      "metadata": {
        "id": "IX6CuKpvCg0p"
      }
    },
    {
      "cell_type": "code",
      "source": [
        "from torch import nn\n",
        "\n",
        "sample_img_transposed = np.asarray(sample_img).transpose(1,2,0)\n",
        "print(f'sample_img.shape: {sample_img.shape}')\n",
        "print(f'sample_img_transposed.shape: {sample_img_transposed.shape}')\n",
        "\n",
        "conv2 = nn.Conv2d(in_channels=1, out_channels=3, kernel_size=(2,2), stride=1, padding=1)\n",
        "print(f'conv2d\\'d sample_img.shape: {conv2(sample_img).shape}')\n",
        "img = conv2(sample_img).permute(1,2,0)\n",
        "result = img.data.numpy()\n",
        "print(result.shape) # (33, 101, 3)\n",
        "\n",
        "max_ = np.max(result)\n",
        "min_ = np.min(result)\n",
        "result -= min_\n",
        "result /= max_\n",
        "\n",
        "plt.figure(figsize=(16,8))\n",
        "plt.subplot(2,2,1)\n",
        "plt.imshow(sample_img_transposed)\n",
        "plt.title('Original Sample Image')\n",
        "for i in range(3):\n",
        "  plt.subplot(2,2,i+2)\n",
        "  plt.imshow(result[:,:,i])\n",
        "  plt.title(f'Feature Map {i}')\n",
        "\n",
        "plt.show()"
      ],
      "metadata": {
        "colab": {
          "base_uri": "https://localhost:8080/",
          "height": 473
        },
        "id": "tHjf7yXfxuuq",
        "outputId": "04526f41-d6c0-4186-f77e-528ae6e2bec3"
      },
      "execution_count": 164,
      "outputs": [
        {
          "output_type": "stream",
          "name": "stdout",
          "text": [
            "sample_img.shape: torch.Size([1, 32, 100])\n",
            "sample_img_transposed.shape: (32, 100, 1)\n",
            "conv2d'd sample_img.shape: torch.Size([3, 33, 101])\n",
            "(33, 101, 3)\n"
          ]
        },
        {
          "output_type": "display_data",
          "data": {
            "text/plain": [
              "<Figure size 1600x800 with 4 Axes>"
            ],
            "image/png": "[encoded data removed]"
          },
          "metadata": {}
        }
      ]
    },
    {
      "cell_type": "code",
      "source": [],
      "metadata": {
        "id": "4mmSkbFOpuqM"
      },
      "execution_count": 164,
      "outputs": []
    },
    {
      "cell_type": "markdown",
      "source": [
        "The paper's configuration seems to omit the activation layer part from its model configuration figure, [the cited VGG paper](https://arxiv.org/pdf/1409.1556.pdf) said \"the relu activation function is not shown for brevity\", but as it's typically known to put the activation after each convolutional layer and before pooling layers, so I'd do the same thing.\n",
        "\n",
        "https://stackoverflow.com/questions/35543428/activation-function-after-pooling-layer-or-convolutional-layer\n",
        "\n",
        "\n",
        "Seems like the order doesn't matter between pooling and activation"
      ],
      "metadata": {
        "id": "Q40hrg8Wpu-c"
      }
    },
    {
      "cell_type": "code",
      "source": [
        "from torch import nn\n",
        "import torch.nn.functional as F\n",
        "\n",
        "class VGG(nn.Module):\n",
        "  def __init__(self, train=True):\n",
        "    super().__init__()\n",
        "    # torch.nn.Conv2d(in_channels, out_channels, kernel_size, stride=1, padding=0, dilation=1, groups=1, bias=True, padding_mode='zeros', device=None, dtype=None)\n",
        "    # output is (C, H, W)\n",
        "    self.conv1 = nn.Conv2d(1, 64, 3 ,1,1)\n",
        "    self.maxpool1 = nn.MaxPool2d((2,2),2)\n",
        "    self.conv2 = nn.Conv2d(64, 128, 3, 1, 1)\n",
        "    self.maxpool2 = nn.MaxPool2d((2,2), 2)\n",
        "    self.conv3 = nn.Conv2d(128, 256, 3, 1, 1)\n",
        "    self.conv4 = nn.Conv2d(256, 256, 3, 1, 1)\n",
        "    self.maxpool3 = nn.MaxPool2d((2,1), 2) # (2,1) NOT (1,2)!!\n",
        "    self.conv5 = nn.Conv2d(256, 512, 3, 1, 1)\n",
        "    self.bn1 = nn.BatchNorm2d(512)\n",
        "    self.conv6 = nn.Conv2d(512, 512, 3, 1, 1)\n",
        "    self.bn2 = nn.BatchNorm2d(512)\n",
        "    # the rectangular pooling windows instead of the conventional squared ones yield feature maps with larger width, hence longer feature sequence\n",
        "    self.maxpool4 = nn.MaxPool2d((2,1), 2)\n",
        "    self.conv7 = nn.Conv2d(512, 512, (2, 2), 1, 0)\n",
        "\n",
        "\n",
        "  def forward(self, x):\n",
        "    assert x.shape[2] == 32\n",
        "\n",
        "    x = F.relu(self.conv1(x))\n",
        "    x = self.maxpool1(x)\n",
        "    x = F.relu(self.conv2(x))\n",
        "    x = self.maxpool2(x)\n",
        "    x = F.relu(self.conv3(x))\n",
        "    x = F.relu(self.conv4(x))\n",
        "    x = self.maxpool3(x)\n",
        "    x = F.relu(self.conv5(x))\n",
        "    x = self.bn1(x)\n",
        "    x = F.relu(self.conv6(x))\n",
        "    x = self.bn2(x)\n",
        "    x = self.maxpool4(x)\n",
        "    x = F.relu(self.conv7(x))\n",
        "    return x"
      ],
      "metadata": {
        "id": "uoGYqJzfYRiL"
      },
      "execution_count": 165,
      "outputs": []
    },
    {
      "cell_type": "code",
      "source": [
        "# need to recap about batch normalization,\n",
        "# we don't do batch normalization during testing, but only for training, but simply put it does normalizing (X-u)/σ"
      ],
      "metadata": {
        "id": "PiEs4hSCakBk"
      },
      "execution_count": 166,
      "outputs": []
    },
    {
      "cell_type": "code",
      "source": [
        "vgg = VGG()"
      ],
      "metadata": {
        "id": "PenPbDOLu_HT"
      },
      "execution_count": 167,
      "outputs": []
    },
    {
      "cell_type": "code",
      "source": [
        "img_t = customdata.__getitem__(20)[0]"
      ],
      "metadata": {
        "id": "WZuouJvq7EZ6"
      },
      "execution_count": 168,
      "outputs": []
    },
    {
      "cell_type": "code",
      "source": [
        "img_t_unsqueezed = img_t.unsqueeze(0)\n",
        "img_t_unsqueezed.shape"
      ],
      "metadata": {
        "colab": {
          "base_uri": "https://localhost:8080/"
        },
        "id": "OBtX5mRyu_MK",
        "outputId": "112b590c-3c4c-4e49-c79e-11ecf85dedf2"
      },
      "execution_count": 169,
      "outputs": [
        {
          "output_type": "execute_result",
          "data": {
            "text/plain": [
              "torch.Size([1, 1, 32, 100])"
            ]
          },
          "metadata": {},
          "execution_count": 169
        }
      ]
    },
    {
      "cell_type": "code",
      "source": [
        "result = vgg(img_t_unsqueezed)\n",
        "b, c, h, w = result.size(); (b, c, h, w)"
      ],
      "metadata": {
        "colab": {
          "base_uri": "https://localhost:8080/"
        },
        "id": "OYy187ADwT0y",
        "outputId": "e77a197b-a7a1-472b-99d3-23492733faec"
      },
      "execution_count": 170,
      "outputs": [
        {
          "output_type": "execute_result",
          "data": {
            "text/plain": [
              "(1, 512, 1, 6)"
            ]
          },
          "metadata": {},
          "execution_count": 170
        }
      ]
    },
    {
      "cell_type": "code",
      "source": [
        "result.view(b, c*h, w).permute(2,0,1).size()"
      ],
      "metadata": {
        "colab": {
          "base_uri": "https://localhost:8080/"
        },
        "id": "uebod7jJ-GaL",
        "outputId": "b3cde4aa-065b-48bf-b7c0-10dc6ee68d91"
      },
      "execution_count": 171,
      "outputs": [
        {
          "output_type": "execute_result",
          "data": {
            "text/plain": [
              "torch.Size([6, 1, 512])"
            ]
          },
          "metadata": {},
          "execution_count": 171
        }
      ]
    },
    {
      "cell_type": "code",
      "source": [
        "vgg(img_t_unsqueezed).shape # [batch_size, channels, height, width]"
      ],
      "metadata": {
        "colab": {
          "base_uri": "https://localhost:8080/"
        },
        "id": "ILEV43Pm94GD",
        "outputId": "f5435e5e-89ac-41ba-fce6-2da649908e1e"
      },
      "execution_count": 172,
      "outputs": [
        {
          "output_type": "execute_result",
          "data": {
            "text/plain": [
              "torch.Size([1, 512, 1, 6])"
            ]
          },
          "metadata": {},
          "execution_count": 172
        }
      ]
    },
    {
      "cell_type": "code",
      "source": [
        "class CRNN(nn.Module):\n",
        "  def __init__(self):\n",
        "    super().__init__()\n",
        "    self.vgg = VGG()\n",
        "    self.map_to_seq = nn.Linear(512, 512) # just a linear operation to flatten the feature map to put in lstm\n",
        "    self.blstm1 = nn.LSTM(512, 256, bidirectional=True)\n",
        "    self.blstm2 = nn.LSTM(512, 256, bidirectional=True)\n",
        "    self.fc = nn.Linear(512, len(chars)+1) # need to +1 right? cause we're implicitly assigning blank as 0 index\n",
        "\n",
        "  def forward(self, x):\n",
        "    vgg_output = self.vgg(x)\n",
        "    b, c, h, w = vgg_output.size()\n",
        "    vgg_output = vgg_output.view(b, c*h, w)\n",
        "    vgg_output = vgg_output.permute(2,0,1) # (width, batch, feature)\n",
        "    # vgg_output = vgg_output.squeeze(2) # [batch_size, channels, width]\n",
        "    # vgg_output = vgg_output.permute(0, 2, 1) # [batch_size, width, channels]\n",
        "    seq = self.map_to_seq(vgg_output)\n",
        "    lstm_output, state = self.blstm1(seq)\n",
        "    lstm_output, state = self.blstm2(lstm_output) # state = (h_n, c_n)\n",
        "    logits = self.fc(lstm_output)\n",
        "\n",
        "    return logits # (seq_len, b, num_class)"
      ],
      "metadata": {
        "id": "fxL2qlxawT3_"
      },
      "execution_count": 173,
      "outputs": []
    },
    {
      "cell_type": "markdown",
      "source": [
        "https://www.codingninjas.com/studio/library/lstms-and-bi-lstm-in-pytorch"
      ],
      "metadata": {
        "id": "C9DHEGcwEQ_P"
      }
    },
    {
      "cell_type": "code",
      "source": [
        "crnn = CRNN()\n",
        "crnn(img_t_unsqueezed).shape"
      ],
      "metadata": {
        "id": "nMJt71YSwT6h",
        "colab": {
          "base_uri": "https://localhost:8080/"
        },
        "outputId": "0a26536a-a2a4-4457-a4bb-a1b3270d24a1"
      },
      "execution_count": 174,
      "outputs": [
        {
          "output_type": "execute_result",
          "data": {
            "text/plain": [
              "torch.Size([6, 1, 69])"
            ]
          },
          "metadata": {},
          "execution_count": 174
        }
      ]
    },
    {
      "cell_type": "code",
      "source": [
        "from torch import optim\n",
        "\n",
        "def train_model(model, train_dataloader, epochs=10, learning_rate=0.9):\n",
        "  criterion = nn.CTCLoss(blank=0, zero_infinity=True)\n",
        "  # optimizer = optim.Adadelta(model.parameters(), lr=learning_rate)\n",
        "  optimizer = optim.SGD(model.parameters(), lr=0.0003)\n",
        "\n",
        "\n",
        "  for epoch in range(epochs):\n",
        "    model.train()\n",
        "    for batch, (images, labels, lengths) in enumerate(train_dataloader):\n",
        "      # print(labels)\n",
        "      torch.autograd.set_detect_anomaly(True)\n",
        "\n",
        "      batch_size = images.size(0)\n",
        "      images = images.to(device)\n",
        "      logits = model(images)\n",
        "      log_probs = F.log_softmax(logits, dim=2)\n",
        "\n",
        "      input_lengths = torch.LongTensor([logits.size(0)]*batch_size) ##\n",
        "      target_lengths = torch.flatten(lengths)\n",
        "      # label_lengths = torch.tensor([len(label) for label in labels])\n",
        "      # labels = torch.tensor([label for sublist in labels for label in sublist])\n",
        "      # labels = torch.cat(labels)\n",
        "      # logits_lengths = torch.full(size=(logits.size(1),), fill_value=logits.size(0), dtype=torch.long)\n",
        "\n",
        "      # print(f'logits.shape: {logits.shape}')\n",
        "      # print(f'labels.shape: {labels.shape}')\n",
        "      # print(f'logits_lengths: {logits_lengths}')\n",
        "      # print(f'label_lengths: {label_lengths}')\n",
        "      loss = criterion(log_probs, labels, input_lengths, target_lengths)\n",
        "\n",
        "      optimizer.zero_grad()\n",
        "      loss.backward()\n",
        "      torch.nn.utils.clip_grad_norm_(model.parameters(), 5.0)\n",
        "      optimizer.step()\n",
        "\n",
        "      if batch % 10 == 0:\n",
        "        print(f'Epoch {epoch}, Batch {batch}, Loss: {loss.item()}')\n",
        "\n",
        "  print(\"Training complete!\")\n",
        "\n",
        "\n",
        "device = torch.device(\"cuda\" if torch.cuda.is_available() else \"cpu\")\n",
        "model = CRNN().to(device)\n",
        "train_model(model, train_dataloader)"
      ],
      "metadata": {
        "colab": {
          "base_uri": "https://localhost:8080/"
        },
        "id": "uw9H2BzbEqyr",
        "outputId": "b8c261ad-7837-4b55-ea75-af0547be4e45"
      },
      "execution_count": 175,
      "outputs": [
        {
          "output_type": "stream",
          "name": "stderr",
          "text": [
            "<ipython-input-161-d9c2bf55200e>:11: UserWarning: To copy construct from a tensor, it is recommended to use sourceTensor.clone().detach() or sourceTensor.clone().detach().requires_grad_(True), rather than torch.tensor(sourceTensor).\n",
            "  labels_padded = pad_sequence([torch.tensor(label) for label in label_lists], batch_first=True, padding_value=0)\n"
          ]
        },
        {
          "output_type": "stream",
          "name": "stdout",
          "text": [
            "Epoch 0, Batch 0, Loss: 3.395650863647461\n",
            "Epoch 0, Batch 10, Loss: 4.315207004547119\n",
            "Epoch 1, Batch 0, Loss: 3.8037221431732178\n",
            "Epoch 1, Batch 10, Loss: 4.588732719421387\n",
            "Epoch 2, Batch 0, Loss: 3.5822808742523193\n",
            "Epoch 2, Batch 10, Loss: 4.142555236816406\n",
            "Epoch 3, Batch 0, Loss: 2.9217753410339355\n",
            "Epoch 3, Batch 10, Loss: 4.2807722091674805\n",
            "Epoch 4, Batch 0, Loss: 4.442739963531494\n",
            "Epoch 4, Batch 10, Loss: 5.02040958404541\n",
            "Epoch 5, Batch 0, Loss: 2.927781105041504\n",
            "Epoch 5, Batch 10, Loss: 4.440319061279297\n",
            "Epoch 6, Batch 0, Loss: 4.181015491485596\n",
            "Epoch 6, Batch 10, Loss: 5.1374077796936035\n",
            "Epoch 7, Batch 0, Loss: 3.7026562690734863\n",
            "Epoch 7, Batch 10, Loss: 5.0635271072387695\n",
            "Epoch 8, Batch 0, Loss: 3.314645767211914\n",
            "Epoch 8, Batch 10, Loss: 4.60145902633667\n",
            "Epoch 9, Batch 0, Loss: 4.244434356689453\n",
            "Epoch 9, Batch 10, Loss: 4.795269966125488\n",
            "Training complete!\n"
          ]
        }
      ]
    },
    {
      "cell_type": "code",
      "source": [],
      "metadata": {
        "id": "fadO9cpDO6TA"
      },
      "execution_count": null,
      "outputs": []
    }
  ]
}