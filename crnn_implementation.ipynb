{
  "cells": [
    {
      "cell_type": "code",
      "execution_count": 3,
      "metadata": {},
      "outputs": [],
      "source": [
        "import os\n",
        "\n",
        "characterSet = [letters for image in os.listdir('cropped_images') for letters in image[:-4].lower()]\n",
        "characterSet.append('/')\n",
        "characterSet = set(characterSet)\n",
        "\n",
        "with open('letters.txt', 'w') as f:\n",
        "    for letter in sorted(characterSet):\n",
        "        f.write(letter + '\\n')"
      ]
    },
    {
      "cell_type": "code",
      "execution_count": 4,
      "metadata": {},
      "outputs": [
        {
          "name": "stdout",
          "output_type": "stream",
          "text": [
            "label2char: \n",
            "{1: '!', 2: '\"', 3: '&', 4: \"'\", 5: '(', 6: ')', 7: '-', 8: '.', 9: '/', 10: '0', 11: '1', 12: '2', 13: '3', 14: '4', 15: '5', 16: '6', 17: '7', 18: '8', 19: '9', 20: ':', 21: '?', 22: '@', 23: 'a', 24: 'b', 25: 'c', 26: 'd', 27: 'e', 28: 'f', 29: 'g', 30: 'h', 31: 'i', 32: 'j', 33: 'k', 34: 'l', 35: 'm', 36: 'n', 37: 'o', 38: 'p', 39: 'q', 40: 'r', 41: 's', 42: 't', 43: 'u', 44: 'v', 45: 'w', 46: 'x', 47: 'y', 48: 'z', 49: '{', 50: '}'}\n"
          ]
        }
      ],
      "source": [
        "char2label = {char : i+1 for i, char in enumerate(list(sorted(characterSet)))} # 0 represents a blank for the CTCloss later\n",
        "label2char = {i : char for char, i in char2label.items()}\n",
        "\n",
        "print(f'label2char: \\n{label2char}')"
      ]
    },
    {
      "cell_type": "code",
      "execution_count": 5,
      "metadata": {
        "id": "DQV_EmNK9eaY"
      },
      "outputs": [],
      "source": [
        "import os\n",
        "import pandas as pd\n",
        "import numpy as np\n",
        "import torch\n",
        "from torch.utils.data import Dataset\n",
        "import torchvision.transforms as T\n",
        "from torchvision.io import read_image\n",
        "import matplotlib.pyplot as plt\n",
        "from PIL import Image\n",
        "class CustomImageDataset(Dataset):\n",
        "\n",
        "  def __init__(self, img_dir, transform=None):\n",
        "    self.img_path = []\n",
        "    self.labels = []\n",
        "    for f in os.listdir(img_dir):\n",
        "      # img_dir here only consists of jpg files named with each label\n",
        "      label = f[:-4].lower().replace('{slash}','/')\n",
        "      self.labels.append(label)\n",
        "      self.img_path.append(os.path.join(img_dir, f))\n",
        "      \n",
        "    # \"During training, all images are scaled to 100 x 32 in order to accelerate the training process.\"\n",
        "    self.transform = T.Compose([\n",
        "        T.Resize((32,100)),\n",
        "        # Input: W x 32 gray-scale image\n",
        "        T.Grayscale(),\n",
        "        T.ToTensor()\n",
        "    ])\n",
        "\n",
        "  def __len__(self):\n",
        "    return len(self.labels)\n",
        "\n",
        "  def __getitem__(self, idx):\n",
        "\n",
        "    image = Image.open(self.img_path[idx])\n",
        "    label_char = self.labels[idx]\n",
        "    label = [char2label[l] for l in label_char]\n",
        "\n",
        "    if self.transform:\n",
        "      image = self.transform(image)\n",
        "\n",
        "    return image, torch.LongTensor(label), torch.LongTensor([len(label)]) "
      ]
    },
    {
      "cell_type": "code",
      "execution_count": 6,
      "metadata": {
        "id": "oeiXoEyM88m0"
      },
      "outputs": [
        {
          "name": "stdout",
          "output_type": "stream",
          "text": [
            "560\n",
            "img_0.shape: torch.Size([1, 32, 100])\n",
            "img_0_label: tensor([45, 45, 45,  8, 41, 27, 40, 44, 31, 38, 34, 43, 41,  8, 26, 27])\n",
            "www.serviplus.de\n"
          ]
        }
      ],
      "source": [
        "customdata = CustomImageDataset(\"cropped_images\")\n",
        "print(len(customdata))\n",
        "img_0, img_0_label, img_0_label_len = customdata[0]\n",
        "print(f'img_0.shape: {img_0.shape}')\n",
        "print(f'img_0_label: {img_0_label}')\n",
        "print(''.join(label2char[l.item()] for l in img_0_label))"
      ]
    },
    {
      "cell_type": "code",
      "execution_count": 7,
      "metadata": {
        "colab": {
          "base_uri": "https://localhost:8080/",
          "height": 49
        },
        "id": "HhTYdBVnSiHU",
        "outputId": "22799809-e742-4897-9ed4-2aab833ab255"
      },
      "outputs": [
        {
          "data": {
            "image/jpeg": "[encoded data removed]",
            "image/png": "[encoded data removed]",
            "text/plain": [
              "<PIL.Image.Image image mode=L size=100x32>"
            ]
          },
          "execution_count": 7,
          "metadata": {},
          "output_type": "execute_result"
        }
      ],
      "source": [
        "# img_0\n",
        "to_pil = T.ToPILImage()\n",
        "img = to_pil(img_0)\n",
        "img "
      ]
    },
    {
      "cell_type": "markdown",
      "metadata": {
        "id": "8EEt6zz3XSQg"
      },
      "source": [
        "https://stackoverflow.com/questions/50544730/how-do-i-split-a-custom-dataset-into-training-and-test-datasets\n",
        "\n",
        "### Train (80%) Test (20%) Split"
      ]
    },
    {
      "cell_type": "code",
      "execution_count": 8,
      "metadata": {
        "id": "uxM1dAV7XAW4"
      },
      "outputs": [],
      "source": [
        "from torch.utils.data.sampler import SubsetRandomSampler\n",
        "\n",
        "batch_size = 16\n",
        "test_split = .2\n",
        "shuffle_dataset = True\n",
        "random_seed = 42\n",
        "\n",
        "dataset_size = len(customdata)\n",
        "indices = list(range(dataset_size))\n",
        "split = int(np.floor(test_split * dataset_size))\n",
        "if shuffle_dataset:\n",
        "  np.random.seed(random_seed)\n",
        "  np.random.shuffle(indices)\n",
        "train_indices, test_indices = indices[split:], indices[:split]\n",
        "\n",
        "train_sampler = SubsetRandomSampler(train_indices)\n",
        "test_sampler = SubsetRandomSampler(test_indices)"
      ]
    },
    {
      "cell_type": "markdown",
      "metadata": {
        "id": "s19uRtol287T"
      },
      "source": [
        "In the context of PyTorch's DataLoader, batch is a list of tuples like [datasetClass[0], datasetClass[1], ...]\n",
        "* [(img_0, img_0_label, img_0_label_len), (img_1, img_1_label, img_1_label_len), ...]"
      ]
    },
    {
      "cell_type": "code",
      "execution_count": 9,
      "metadata": {},
      "outputs": [
        {
          "name": "stdout",
          "output_type": "stream",
          "text": [
            "labels:\n",
            "(tensor([45, 45, 45,  8, 41, 27, 40, 44, 31, 38, 34, 43, 41,  8, 26, 27]), tensor([35, 23, 31, 36, 42, 27, 36, 23, 36, 25, 27]), tensor([23, 40, 25, 30, 31, 42, 27, 33, 42]))\n",
            "padded_labels:\n",
            "tensor([[45, 45, 45,  8, 41, 27, 40, 44, 31, 38, 34, 43, 41,  8, 26, 27],\n",
            "        [35, 23, 31, 36, 42, 27, 36, 23, 36, 25, 27,  0,  0,  0,  0,  0],\n",
            "        [23, 40, 25, 30, 31, 42, 27, 33, 42,  0,  0,  0,  0,  0,  0,  0]])\n"
          ]
        }
      ],
      "source": [
        "from torch.nn.utils.rnn import pad_sequence\n",
        "\n",
        "# A sample batch with batch_size = 3 to see how `pad_sequence` works\n",
        "sample_batch = [customdata[0], customdata[1], customdata[2]]\n",
        "imgs, labels, label_lens = zip(*sample_batch)\n",
        "print(f'labels:\\n{labels}')\n",
        "padded_labels = pad_sequence([label for label in labels], batch_first=True)\n",
        "print(f'padded_labels:\\n{padded_labels}')"
      ]
    },
    {
      "cell_type": "code",
      "execution_count": 10,
      "metadata": {
        "id": "p0wTMI87DJjH"
      },
      "outputs": [],
      "source": [
        "from torch.nn.utils.rnn import pad_sequence\n",
        "\n",
        "def collate_fn(data):\n",
        "\n",
        "  imgs, labels, label_lens = zip(*data) # each type is tuple \n",
        "  padded_labels = pad_sequence([label for label in labels], batch_first=True)\n",
        "  \n",
        "  return torch.stack(imgs), padded_labels, torch.stack(label_lens)"
      ]
    },
    {
      "cell_type": "code",
      "execution_count": 11,
      "metadata": {
        "id": "9KybSTzoWBdJ"
      },
      "outputs": [],
      "source": [
        "from torch.utils.data import DataLoader\n",
        "\n",
        "train_dataloader = DataLoader(customdata, batch_size=batch_size, sampler=train_sampler, collate_fn = collate_fn)\n",
        "test_dataloader = DataLoader(customdata, batch_size=batch_size, sampler=test_sampler, collate_fn = collate_fn)"
      ]
    },
    {
      "cell_type": "markdown",
      "metadata": {},
      "source": [
        "### torch.nn.Conv2d \n",
        "\n",
        "`torch.nn.Conv2d` applies 2D convolution changing the input size of $(C_{in}, H_{in}, W_{in})$ to $(C_{out}, H_{out}, W_{out})$"
      ]
    },
    {
      "cell_type": "code",
      "execution_count": 18,
      "metadata": {
        "colab": {
          "base_uri": "https://localhost:8080/",
          "height": 473
        },
        "id": "tHjf7yXfxuuq",
        "outputId": "04526f41-d6c0-4186-f77e-528ae6e2bec3"
      },
      "outputs": [
        {
          "data": {
            "image/png": "[encoded data removed]",
            "text/plain": [
              "<Figure size 1600x800 with 4 Axes>"
            ]
          },
          "metadata": {},
          "output_type": "display_data"
        }
      ],
      "source": [
        "from torch import nn\n",
        "\n",
        "# img_0.shape: (1, 32, 100) -   m   -> (3, 30, 98)\n",
        "m = nn.Conv2d(in_channels=img_0.shape[0], out_channels=3, kernel_size=3)\n",
        "\n",
        "img_p = m(img_0).permute(1,2,0) \n",
        "np_img = img_p.detach().numpy()\n",
        "\n",
        "plt.figure(figsize=(16,8))\n",
        "plt.subplot(2,2,1)\n",
        "plt.imshow(img_0[0], cmap='gray')\n",
        "plt.title('Original img_0')\n",
        "\n",
        "for i in range(3):\n",
        "    plt.subplot(2,2,i+2)\n",
        "    plt.imshow(np_img[:,:,i], cmap='gray')\n",
        "    plt.title(f'Feature map {i} from Conv2d')"
      ]
    },
    {
      "cell_type": "markdown",
      "metadata": {
        "id": "Q40hrg8Wpu-c"
      },
      "source": [
        "The paper's configuration seems to omit the activation layer part from its model configuration figure, [the cited VGG paper](https://arxiv.org/pdf/1409.1556.pdf) said \"the relu activation function is not shown for brevity\", but as it's typically known to put the activation after each convolutional layer and before pooling layers, so I'd do the same thing.\n",
        "\n",
        "https://stackoverflow.com/questions/35543428/activation-function-after-pooling-layer-or-convolutional-layer\n",
        "\n",
        "\n",
        "The order doesn't matter between pooling and activation"
      ]
    },
    {
      "cell_type": "code",
      "execution_count": 23,
      "metadata": {
        "id": "uoGYqJzfYRiL"
      },
      "outputs": [],
      "source": [
        "from torch import nn\n",
        "import torch.nn.functional as F\n",
        "\n",
        "class VGG(nn.Module):\n",
        "  def __init__(self, train=True):\n",
        "    super().__init__()\n",
        "    # torch.nn.Conv2d(in_channels, out_channels, kernel_size, stride=1, padding=0, dilation=1, groups=1, bias=True, padding_mode='zeros', device=None, dtype=None)\n",
        "    # output is (C, H, W)\n",
        "    self.conv1 = nn.Conv2d(1, 64, 3 ,1,1)\n",
        "    self.maxpool1 = nn.MaxPool2d((2,2),2)\n",
        "    self.conv2 = nn.Conv2d(64, 128, 3, 1, 1)\n",
        "    self.maxpool2 = nn.MaxPool2d((2,2), 2)\n",
        "    self.conv3 = nn.Conv2d(128, 256, 3, 1, 1)\n",
        "    self.conv4 = nn.Conv2d(256, 256, 3, 1, 1)\n",
        "    self.maxpool3 = nn.MaxPool2d((2,1), 2) # (2,1) NOT (1,2)!!\n",
        "    self.conv5 = nn.Conv2d(256, 512, 3, 1, 1)\n",
        "    self.bn1 = nn.BatchNorm2d(512)\n",
        "    self.conv6 = nn.Conv2d(512, 512, 3, 1, 1)\n",
        "    self.bn2 = nn.BatchNorm2d(512)\n",
        "    # the rectangular pooling windows instead of the conventional squared ones yield feature maps with larger width, hence longer feature sequence\n",
        "    self.maxpool4 = nn.MaxPool2d((2,1), 2)\n",
        "    self.conv7 = nn.Conv2d(512, 512, (2, 2), 1, 0)\n",
        "\n",
        "\n",
        "  def forward(self, x):\n",
        "    assert x.shape[2] == 32\n",
        "\n",
        "    x = F.relu(self.conv1(x))\n",
        "    x = self.maxpool1(x)\n",
        "    x = F.relu(self.conv2(x))\n",
        "    x = self.maxpool2(x)\n",
        "    x = F.relu(self.conv3(x))\n",
        "    x = F.relu(self.conv4(x))\n",
        "    x = self.maxpool3(x)\n",
        "    x = F.relu(self.conv5(x))\n",
        "    x = self.bn1(x)\n",
        "    x = F.relu(self.conv6(x))\n",
        "    x = self.bn2(x)\n",
        "    x = self.maxpool4(x)\n",
        "    x = F.relu(self.conv7(x))\n",
        "    return x"
      ]
    },
    {
      "cell_type": "code",
      "execution_count": 24,
      "metadata": {
        "id": "PenPbDOLu_HT"
      },
      "outputs": [],
      "source": [
        "vgg = VGG()"
      ]
    },
    {
      "cell_type": "code",
      "execution_count": 25,
      "metadata": {
        "colab": {
          "base_uri": "https://localhost:8080/"
        },
        "id": "OBtX5mRyu_MK",
        "outputId": "112b590c-3c4c-4e49-c79e-11ecf85dedf2"
      },
      "outputs": [
        {
          "data": {
            "text/plain": [
              "torch.Size([1, 1, 32, 100])"
            ]
          },
          "execution_count": 25,
          "metadata": {},
          "output_type": "execute_result"
        }
      ],
      "source": [
        "img_0_unsqueezed = img_0.unsqueeze(0)\n",
        "img_0_unsqueezed.shape"
      ]
    },
    {
      "cell_type": "code",
      "execution_count": 26,
      "metadata": {
        "colab": {
          "base_uri": "https://localhost:8080/"
        },
        "id": "OYy187ADwT0y",
        "outputId": "e77a197b-a7a1-472b-99d3-23492733faec"
      },
      "outputs": [
        {
          "data": {
            "text/plain": [
              "(1, 512, 1, 6)"
            ]
          },
          "execution_count": 26,
          "metadata": {},
          "output_type": "execute_result"
        }
      ],
      "source": [
        "result = vgg(img_0_unsqueezed)\n",
        "b, c, h, w = result.size(); (b, c, h, w)"
      ]
    },
    {
      "cell_type": "code",
      "execution_count": 171,
      "metadata": {
        "colab": {
          "base_uri": "https://localhost:8080/"
        },
        "id": "uebod7jJ-GaL",
        "outputId": "b3cde4aa-065b-48bf-b7c0-10dc6ee68d91"
      },
      "outputs": [
        {
          "data": {
            "text/plain": [
              "torch.Size([6, 1, 512])"
            ]
          },
          "execution_count": 171,
          "metadata": {},
          "output_type": "execute_result"
        }
      ],
      "source": [
        "result.view(b, c*h, w).permute(2,0,1).size()"
      ]
    },
    {
      "cell_type": "code",
      "execution_count": 29,
      "metadata": {
        "id": "fxL2qlxawT3_"
      },
      "outputs": [],
      "source": [
        "class CRNN(nn.Module):\n",
        "  def __init__(self):\n",
        "    super().__init__()\n",
        "    self.vgg = VGG()\n",
        "    self.map_to_seq = nn.Linear(512, 64) # just a linear operation to flatten the feature map to put in lstm\n",
        "    self.blstm1 = nn.LSTM(64, 256, bidirectional=True)\n",
        "    self.blstm2 = nn.LSTM(512, 256, bidirectional=True)\n",
        "    self.fc = nn.Linear(512, len(char2label)+1) # need to +1 right? cause we're implicitly assigning blank as 0 index\n",
        "\n",
        "  def forward(self, x):\n",
        "    vgg_output = self.vgg(x)\n",
        "    b, c, h, w = vgg_output.size()\n",
        "    vgg_output = vgg_output.view(b, c * h, w)\n",
        "    vgg_output = vgg_output.permute(2,0,1) # (width, batch, feature)\n",
        "    seq = self.map_to_seq(vgg_output)\n",
        "    lstm_output, _ = self.blstm1(seq)\n",
        "    lstm_output, _ = self.blstm2(lstm_output) \n",
        "    logits = self.fc(lstm_output)\n",
        "\n",
        "    return logits # (seq_len, b, num_class)"
      ]
    },
    {
      "cell_type": "markdown",
      "metadata": {
        "id": "C9DHEGcwEQ_P"
      },
      "source": [
        "https://www.codingninjas.com/studio/library/lstms-and-bi-lstm-in-pytorch"
      ]
    },
    {
      "cell_type": "code",
      "execution_count": 30,
      "metadata": {
        "colab": {
          "base_uri": "https://localhost:8080/"
        },
        "id": "nMJt71YSwT6h",
        "outputId": "0a26536a-a2a4-4457-a4bb-a1b3270d24a1"
      },
      "outputs": [
        {
          "data": {
            "text/plain": [
              "torch.Size([6, 1, 51])"
            ]
          },
          "execution_count": 30,
          "metadata": {},
          "output_type": "execute_result"
        }
      ],
      "source": [
        "crnn = CRNN()\n",
        "crnn(img_0_unsqueezed).shape"
      ]
    },
    {
      "cell_type": "code",
      "execution_count": 31,
      "metadata": {},
      "outputs": [],
      "source": [
        "def train(crnn, data, optimizer, criterion):\n",
        "    crnn.train()\n",
        "    imgs, labels, label_lens = data\n",
        "\n",
        "    logits = crnn(imgs)\n",
        "    log_probs = torch.nn.functional.log_softmax(logits, dim=2)\n",
        "\n",
        "    batch_size = imgs.size(0)\n",
        "    input_lens = torch.LongTensor([logits.size(0)] * batch_size)\n",
        "    target_lens = torch.flatten(label_lens)\n",
        "\n",
        "    loss = criterion(log_probs, labels, input_lens, target_lens)\n",
        "\n",
        "    optimizer.zero_grad()\n",
        "    loss.backward()\n",
        "    torch.nn.utils.clip_grad_norm_(crnn.parameters(), 5)\n",
        "    optimizer.step()\n",
        "    return loss.item()"
      ]
    },
    {
      "cell_type": "code",
      "execution_count": null,
      "metadata": {},
      "outputs": [],
      "source": []
    },
    {
      "cell_type": "code",
      "execution_count": 175,
      "metadata": {
        "colab": {
          "base_uri": "https://localhost:8080/"
        },
        "id": "uw9H2BzbEqyr",
        "outputId": "b8c261ad-7837-4b55-ea75-af0547be4e45"
      },
      "outputs": [
        {
          "name": "stderr",
          "output_type": "stream",
          "text": [
            "<ipython-input-161-d9c2bf55200e>:11: UserWarning: To copy construct from a tensor, it is recommended to use sourceTensor.clone().detach() or sourceTensor.clone().detach().requires_grad_(True), rather than torch.tensor(sourceTensor).\n",
            "  labels_padded = pad_sequence([torch.tensor(label) for label in label_lists], batch_first=True, padding_value=0)\n"
          ]
        },
        {
          "name": "stdout",
          "output_type": "stream",
          "text": [
            "Epoch 0, Batch 0, Loss: 3.395650863647461\n",
            "Epoch 0, Batch 10, Loss: 4.315207004547119\n",
            "Epoch 1, Batch 0, Loss: 3.8037221431732178\n",
            "Epoch 1, Batch 10, Loss: 4.588732719421387\n",
            "Epoch 2, Batch 0, Loss: 3.5822808742523193\n",
            "Epoch 2, Batch 10, Loss: 4.142555236816406\n",
            "Epoch 3, Batch 0, Loss: 2.9217753410339355\n",
            "Epoch 3, Batch 10, Loss: 4.2807722091674805\n",
            "Epoch 4, Batch 0, Loss: 4.442739963531494\n",
            "Epoch 4, Batch 10, Loss: 5.02040958404541\n",
            "Epoch 5, Batch 0, Loss: 2.927781105041504\n",
            "Epoch 5, Batch 10, Loss: 4.440319061279297\n",
            "Epoch 6, Batch 0, Loss: 4.181015491485596\n",
            "Epoch 6, Batch 10, Loss: 5.1374077796936035\n",
            "Epoch 7, Batch 0, Loss: 3.7026562690734863\n",
            "Epoch 7, Batch 10, Loss: 5.0635271072387695\n",
            "Epoch 8, Batch 0, Loss: 3.314645767211914\n",
            "Epoch 8, Batch 10, Loss: 4.60145902633667\n",
            "Epoch 9, Batch 0, Loss: 4.244434356689453\n",
            "Epoch 9, Batch 10, Loss: 4.795269966125488\n",
            "Training complete!\n"
          ]
        }
      ],
      "source": [
        "from torch import optim\n",
        "\n",
        "def train_model(model, train_dataloader, epochs=10, learning_rate=0.9):\n",
        "  criterion = nn.CTCLoss(blank=0, zero_infinity=True)\n",
        "  # optimizer = optim.Adadelta(model.parameters(), lr=learning_rate)\n",
        "  optimizer = optim.SGD(model.parameters(), lr=0.0003)\n",
        "\n",
        "\n",
        "  for epoch in range(epochs):\n",
        "    model.train()\n",
        "    for batch, (images, labels, lengths) in enumerate(train_dataloader):\n",
        "      # print(labels)\n",
        "      torch.autograd.set_detect_anomaly(True)\n",
        "\n",
        "      batch_size = images.size(0)\n",
        "      images = images.to(device)\n",
        "      logits = model(images)\n",
        "      log_probs = F.log_softmax(logits, dim=2)\n",
        "\n",
        "      input_lengths = torch.LongTensor([logits.size(0)]*batch_size) ##\n",
        "      target_lengths = torch.flatten(lengths)\n",
        "      # label_lengths = torch.tensor([len(label) for label in labels])\n",
        "      # labels = torch.tensor([label for sublist in labels for label in sublist])\n",
        "      # labels = torch.cat(labels)\n",
        "      # logits_lengths = torch.full(size=(logits.size(1),), fill_value=logits.size(0), dtype=torch.long)\n",
        "\n",
        "      # print(f'logits.shape: {logits.shape}')\n",
        "      # print(f'labels.shape: {labels.shape}')\n",
        "      # print(f'logits_lengths: {logits_lengths}')\n",
        "      # print(f'label_lengths: {label_lengths}')\n",
        "      loss = criterion(log_probs, labels, input_lengths, target_lengths)\n",
        "\n",
        "      optimizer.zero_grad()\n",
        "      loss.backward()\n",
        "      torch.nn.utils.clip_grad_norm_(model.parameters(), 5.0)\n",
        "      optimizer.step()\n",
        "\n",
        "      if batch % 10 == 0:\n",
        "        print(f'Epoch {epoch}, Batch {batch}, Loss: {loss.item()}')\n",
        "\n",
        "  print(\"Training complete!\")\n",
        "\n",
        "\n",
        "device = torch.device(\"cuda\" if torch.cuda.is_available() else \"cpu\")\n",
        "model = CRNN().to(device)\n",
        "train_model(model, train_dataloader)"
      ]
    },
    {
      "cell_type": "code",
      "execution_count": null,
      "metadata": {
        "id": "fadO9cpDO6TA"
      },
      "outputs": [],
      "source": []
    }
  ],
  "metadata": {
    "colab": {
      "provenance": []
    },
    "kernelspec": {
      "display_name": "Python 3",
      "name": "python3"
    },
    "language_info": {
      "codemirror_mode": {
        "name": "ipython",
        "version": 3
      },
      "file_extension": ".py",
      "mimetype": "text/x-python",
      "name": "python",
      "nbconvert_exporter": "python",
      "pygments_lexer": "ipython3",
      "version": "3.11.7"
    }
  },
  "nbformat": 4,
  "nbformat_minor": 0
}
